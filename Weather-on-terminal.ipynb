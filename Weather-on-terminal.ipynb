{
 "metadata": {
  "name": "",
  "signature": "sha256:d058705a8946b378a1a0e887fe35156cc10cc90f849f67ac27b2725fce49fafe"
 },
 "nbformat": 3,
 "nbformat_minor": 0,
 "worksheets": [
  {
   "cells": [
    {
     "cell_type": "markdown",
     "metadata": {},
     "source": [
      "#Getting Weather details based on IP Addr#\n",
      "1. Get IP from API\n",
      "1. Get Weather based on IP"
     ]
    },
    {
     "cell_type": "code",
     "collapsed": false,
     "input": [
      "import urllib.request\n",
      "import json"
     ],
     "language": "python",
     "metadata": {},
     "outputs": [],
     "prompt_number": 1
    },
    {
     "cell_type": "code",
     "collapsed": false,
     "input": [
      "url = 'http://ip-api.com/json'\n",
      "req = urllib.request.Request(url, headers={'User-Agent': 'Mozilla/5.0 (Windows NT 5.1; rv:31.0) Gecko/20100101 Firefox/31.0'})\n",
      "json_html = urllib.request.urlopen(req).read()\n",
      "json_reply = json.loads(json_html.decode('UTF-8'))\n",
      "addr = json_reply['query']\n",
      "print(addr)"
     ],
     "language": "python",
     "metadata": {},
     "outputs": [
      {
       "output_type": "stream",
       "stream": "stdout",
       "text": [
        "14.139.123.61\n"
       ]
      }
     ],
     "prompt_number": 2
    },
    {
     "cell_type": "code",
     "collapsed": false,
     "input": [
      "end_point = \"http://api.worldweatheronline.com/free/v1/weather.ashx?\"\n",
      "query = \"key=a37fae643df77aa83d88abbc9e8e96194ab242d4&q=\" + str(addr) + \"&num_of_days=0&format=json\"\n",
      "url = end_point + query\n",
      "json_data = urllib.request.urlopen(url).read()\n",
      "weather_data = json.loads(json_data.decode('UTF-8'))\n",
      "current_weather = weather_data['data']['current_condition'][0]\n",
      "print(current_weather)"
     ],
     "language": "python",
     "metadata": {},
     "outputs": [
      {
       "output_type": "stream",
       "stream": "stdout",
       "text": [
        "{'humidity': '38', 'precipMM': '0.0', 'windspeedKmph': '17', 'pressure': '1000', 'windspeedMiles': '11', 'winddir16Point': 'SW', 'cloudcover': '50', 'temp_C': '40', 'winddirDegree': '230', 'temp_F': '104', 'visibility': '6', 'weatherIconUrl': [{'value': 'http://cdn.worldweatheronline.net/images/wsymbols01_png_64/wsymbol_0002_sunny_intervals.png'}], 'observation_time': '08:49 AM', 'weatherDesc': [{'value': 'Partly Cloudy'}], 'weatherCode': '116'}\n"
       ]
      }
     ],
     "prompt_number": 3
    },
    {
     "cell_type": "code",
     "collapsed": false,
     "input": [
      "print(\"\"\"\n",
      "Weather : %s\n",
      "Temperatue : %s Celsius\n",
      "Wind : %s Kmph %s\n",
      "Humidity : %s\n",
      "Precipitation : %s MM\n",
      "\"\"\" % (current_weather['weatherDesc'][0]['value'], current_weather['temp_C'], current_weather['windspeedKmph'], current_weather['winddir16Point'], current_weather['humidity'], current_weather['precipMM']))\n"
     ],
     "language": "python",
     "metadata": {},
     "outputs": [
      {
       "output_type": "stream",
       "stream": "stdout",
       "text": [
        "\n",
        "Weather : Partly Cloudy\n",
        "Temperatue : 40 Celsius\n",
        "Wind : 17 Kmph SW\n",
        "Humidity : 38\n",
        "Precipitation : 0.0 MM\n",
        "\n"
       ]
      }
     ],
     "prompt_number": 4
    },
    {
     "cell_type": "code",
     "collapsed": false,
     "input": [],
     "language": "python",
     "metadata": {},
     "outputs": []
    }
   ],
   "metadata": {}
  }
 ]
}
